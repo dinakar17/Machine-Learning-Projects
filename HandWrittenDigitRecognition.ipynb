{
  "nbformat": 4,
  "nbformat_minor": 0,
  "metadata": {
    "colab": {
      "name": "HandWrittenDigitRecognition.ipynb",
      "provenance": []
    },
    "kernelspec": {
      "name": "python3",
      "display_name": "Python 3"
    },
    "language_info": {
      "name": "python"
    }
  },
  "cells": [
    {
      "cell_type": "markdown",
      "source": [
        "# Imports"
      ],
      "metadata": {
        "id": "CBTx8Q7JMUwH"
      }
    },
    {
      "cell_type": "code",
      "execution_count": 16,
      "metadata": {
        "colab": {
          "base_uri": "https://localhost:8080/"
        },
        "id": "SrcYFZIsMHsT",
        "outputId": "a829326d-3047-4d40-919b-82db89bf6968"
      },
      "outputs": [
        {
          "output_type": "stream",
          "name": "stdout",
          "text": [
            "Collecting gradio\n",
            "  Downloading gradio-3.0.1-py3-none-any.whl (5.6 MB)\n",
            "\u001b[K     |████████████████████████████████| 5.6 MB 5.0 MB/s \n",
            "\u001b[?25hCollecting pydub\n",
            "  Downloading pydub-0.25.1-py2.py3-none-any.whl (32 kB)\n",
            "Collecting orjson\n",
            "  Downloading orjson-3.6.8-cp37-cp37m-manylinux_2_24_x86_64.whl (253 kB)\n",
            "\u001b[K     |████████████████████████████████| 253 kB 56.8 MB/s \n",
            "\u001b[?25hCollecting analytics-python\n",
            "  Downloading analytics_python-1.4.0-py2.py3-none-any.whl (15 kB)\n",
            "Requirement already satisfied: matplotlib in /usr/local/lib/python3.7/dist-packages (from gradio) (3.2.2)\n",
            "Collecting uvicorn\n",
            "  Downloading uvicorn-0.17.6-py3-none-any.whl (53 kB)\n",
            "\u001b[K     |████████████████████████████████| 53 kB 2.0 MB/s \n",
            "\u001b[?25hRequirement already satisfied: Jinja2 in /usr/local/lib/python3.7/dist-packages (from gradio) (2.11.3)\n",
            "Collecting python-multipart\n",
            "  Downloading python-multipart-0.0.5.tar.gz (32 kB)\n",
            "Collecting fastapi\n",
            "  Downloading fastapi-0.78.0-py3-none-any.whl (54 kB)\n",
            "\u001b[K     |████████████████████████████████| 54 kB 2.9 MB/s \n",
            "\u001b[?25hRequirement already satisfied: requests in /usr/local/lib/python3.7/dist-packages (from gradio) (2.23.0)\n",
            "Collecting aiohttp\n",
            "  Downloading aiohttp-3.8.1-cp37-cp37m-manylinux_2_5_x86_64.manylinux1_x86_64.manylinux_2_12_x86_64.manylinux2010_x86_64.whl (1.1 MB)\n",
            "\u001b[K     |████████████████████████████████| 1.1 MB 51.3 MB/s \n",
            "\u001b[?25hRequirement already satisfied: pandas in /usr/local/lib/python3.7/dist-packages (from gradio) (1.3.5)\n",
            "Collecting pycryptodome\n",
            "  Downloading pycryptodome-3.14.1-cp35-abi3-manylinux2010_x86_64.whl (2.0 MB)\n",
            "\u001b[K     |████████████████████████████████| 2.0 MB 42.0 MB/s \n",
            "\u001b[?25hCollecting markdown-it-py[linkify,plugins]\n",
            "  Downloading markdown_it_py-2.1.0-py3-none-any.whl (84 kB)\n",
            "\u001b[K     |████████████████████████████████| 84 kB 3.6 MB/s \n",
            "\u001b[?25hCollecting paramiko\n",
            "  Downloading paramiko-2.11.0-py2.py3-none-any.whl (212 kB)\n",
            "\u001b[K     |████████████████████████████████| 212 kB 59.4 MB/s \n",
            "\u001b[?25hRequirement already satisfied: numpy in /usr/local/lib/python3.7/dist-packages (from gradio) (1.21.6)\n",
            "Requirement already satisfied: pillow in /usr/local/lib/python3.7/dist-packages (from gradio) (7.1.2)\n",
            "Collecting ffmpy\n",
            "  Downloading ffmpy-0.3.0.tar.gz (4.8 kB)\n",
            "Collecting yarl<2.0,>=1.0\n",
            "  Downloading yarl-1.7.2-cp37-cp37m-manylinux_2_5_x86_64.manylinux1_x86_64.manylinux_2_12_x86_64.manylinux2010_x86_64.whl (271 kB)\n",
            "\u001b[K     |████████████████████████████████| 271 kB 49.3 MB/s \n",
            "\u001b[?25hCollecting multidict<7.0,>=4.5\n",
            "  Downloading multidict-6.0.2-cp37-cp37m-manylinux_2_17_x86_64.manylinux2014_x86_64.whl (94 kB)\n",
            "\u001b[K     |████████████████████████████████| 94 kB 3.4 MB/s \n",
            "\u001b[?25hCollecting aiosignal>=1.1.2\n",
            "  Downloading aiosignal-1.2.0-py3-none-any.whl (8.2 kB)\n",
            "Requirement already satisfied: charset-normalizer<3.0,>=2.0 in /usr/local/lib/python3.7/dist-packages (from aiohttp->gradio) (2.0.12)\n",
            "Requirement already satisfied: attrs>=17.3.0 in /usr/local/lib/python3.7/dist-packages (from aiohttp->gradio) (21.4.0)\n",
            "Collecting asynctest==0.13.0\n",
            "  Downloading asynctest-0.13.0-py3-none-any.whl (26 kB)\n",
            "Collecting frozenlist>=1.1.1\n",
            "  Downloading frozenlist-1.3.0-cp37-cp37m-manylinux_2_5_x86_64.manylinux1_x86_64.manylinux_2_17_x86_64.manylinux2014_x86_64.whl (144 kB)\n",
            "\u001b[K     |████████████████████████████████| 144 kB 58.5 MB/s \n",
            "\u001b[?25hRequirement already satisfied: typing-extensions>=3.7.4 in /usr/local/lib/python3.7/dist-packages (from aiohttp->gradio) (4.2.0)\n",
            "Collecting async-timeout<5.0,>=4.0.0a3\n",
            "  Downloading async_timeout-4.0.2-py3-none-any.whl (5.8 kB)\n",
            "Requirement already satisfied: idna>=2.0 in /usr/local/lib/python3.7/dist-packages (from yarl<2.0,>=1.0->aiohttp->gradio) (2.10)\n",
            "Collecting backoff==1.10.0\n",
            "  Downloading backoff-1.10.0-py2.py3-none-any.whl (31 kB)\n",
            "Requirement already satisfied: python-dateutil>2.1 in /usr/local/lib/python3.7/dist-packages (from analytics-python->gradio) (2.8.2)\n",
            "Requirement already satisfied: six>=1.5 in /usr/local/lib/python3.7/dist-packages (from analytics-python->gradio) (1.15.0)\n",
            "Collecting monotonic>=1.5\n",
            "  Downloading monotonic-1.6-py2.py3-none-any.whl (8.2 kB)\n",
            "Requirement already satisfied: certifi>=2017.4.17 in /usr/local/lib/python3.7/dist-packages (from requests->gradio) (2021.10.8)\n",
            "Requirement already satisfied: chardet<4,>=3.0.2 in /usr/local/lib/python3.7/dist-packages (from requests->gradio) (3.0.4)\n",
            "Requirement already satisfied: urllib3!=1.25.0,!=1.25.1,<1.26,>=1.21.1 in /usr/local/lib/python3.7/dist-packages (from requests->gradio) (1.24.3)\n",
            "Collecting pydantic!=1.7,!=1.7.1,!=1.7.2,!=1.7.3,!=1.8,!=1.8.1,<2.0.0,>=1.6.2\n",
            "  Downloading pydantic-1.9.0-cp37-cp37m-manylinux_2_17_x86_64.manylinux2014_x86_64.whl (10.9 MB)\n",
            "\u001b[K     |████████████████████████████████| 10.9 MB 53.0 MB/s \n",
            "\u001b[?25hCollecting starlette==0.19.1\n",
            "  Downloading starlette-0.19.1-py3-none-any.whl (63 kB)\n",
            "\u001b[K     |████████████████████████████████| 63 kB 1.8 MB/s \n",
            "\u001b[?25hCollecting anyio<5,>=3.4.0\n",
            "  Downloading anyio-3.6.1-py3-none-any.whl (80 kB)\n",
            "\u001b[K     |████████████████████████████████| 80 kB 6.6 MB/s \n",
            "\u001b[?25hCollecting sniffio>=1.1\n",
            "  Downloading sniffio-1.2.0-py3-none-any.whl (10 kB)\n",
            "Requirement already satisfied: MarkupSafe>=0.23 in /usr/local/lib/python3.7/dist-packages (from Jinja2->gradio) (2.0.1)\n",
            "Collecting mdurl~=0.1\n",
            "  Downloading mdurl-0.1.1-py3-none-any.whl (10 kB)\n",
            "Collecting mdit-py-plugins\n",
            "  Downloading mdit_py_plugins-0.3.0-py3-none-any.whl (43 kB)\n",
            "\u001b[K     |████████████████████████████████| 43 kB 2.0 MB/s \n",
            "\u001b[?25hCollecting linkify-it-py~=1.0\n",
            "  Downloading linkify_it_py-1.0.3-py3-none-any.whl (19 kB)\n",
            "Collecting uc-micro-py\n",
            "  Downloading uc_micro_py-1.0.1-py3-none-any.whl (6.2 kB)\n",
            "Requirement already satisfied: kiwisolver>=1.0.1 in /usr/local/lib/python3.7/dist-packages (from matplotlib->gradio) (1.4.2)\n",
            "Requirement already satisfied: pyparsing!=2.0.4,!=2.1.2,!=2.1.6,>=2.0.1 in /usr/local/lib/python3.7/dist-packages (from matplotlib->gradio) (3.0.8)\n",
            "Requirement already satisfied: cycler>=0.10 in /usr/local/lib/python3.7/dist-packages (from matplotlib->gradio) (0.11.0)\n",
            "Requirement already satisfied: pytz>=2017.3 in /usr/local/lib/python3.7/dist-packages (from pandas->gradio) (2022.1)\n",
            "Collecting cryptography>=2.5\n",
            "  Downloading cryptography-37.0.2-cp36-abi3-manylinux_2_24_x86_64.whl (4.0 MB)\n",
            "\u001b[K     |████████████████████████████████| 4.0 MB 46.0 MB/s \n",
            "\u001b[?25hCollecting pynacl>=1.0.1\n",
            "  Downloading PyNaCl-1.5.0-cp36-abi3-manylinux_2_17_x86_64.manylinux2014_x86_64.manylinux_2_24_x86_64.whl (856 kB)\n",
            "\u001b[K     |████████████████████████████████| 856 kB 48.9 MB/s \n",
            "\u001b[?25hCollecting bcrypt>=3.1.3\n",
            "  Downloading bcrypt-3.2.2-cp36-abi3-manylinux_2_17_x86_64.manylinux2014_x86_64.manylinux_2_24_x86_64.whl (62 kB)\n",
            "\u001b[K     |████████████████████████████████| 62 kB 883 kB/s \n",
            "\u001b[?25hRequirement already satisfied: cffi>=1.1 in /usr/local/lib/python3.7/dist-packages (from bcrypt>=3.1.3->paramiko->gradio) (1.15.0)\n",
            "Requirement already satisfied: pycparser in /usr/local/lib/python3.7/dist-packages (from cffi>=1.1->bcrypt>=3.1.3->paramiko->gradio) (2.21)\n",
            "Requirement already satisfied: click>=7.0 in /usr/local/lib/python3.7/dist-packages (from uvicorn->gradio) (7.1.2)\n",
            "Collecting asgiref>=3.4.0\n",
            "  Downloading asgiref-3.5.2-py3-none-any.whl (22 kB)\n",
            "Collecting h11>=0.8\n",
            "  Downloading h11-0.13.0-py3-none-any.whl (58 kB)\n",
            "\u001b[K     |████████████████████████████████| 58 kB 5.2 MB/s \n",
            "\u001b[?25hBuilding wheels for collected packages: ffmpy, python-multipart\n",
            "  Building wheel for ffmpy (setup.py) ... \u001b[?25l\u001b[?25hdone\n",
            "  Created wheel for ffmpy: filename=ffmpy-0.3.0-py3-none-any.whl size=4712 sha256=ce660929331489ea74f2920e463a71fff2491b3cfeb7c85a649ac57891e653fe\n",
            "  Stored in directory: /root/.cache/pip/wheels/13/e4/6c/e8059816e86796a597c6e6b0d4c880630f51a1fcfa0befd5e6\n",
            "  Building wheel for python-multipart (setup.py) ... \u001b[?25l\u001b[?25hdone\n",
            "  Created wheel for python-multipart: filename=python_multipart-0.0.5-py3-none-any.whl size=31678 sha256=f83bcb3075b54280ce47633e574d90b3336d93ab995ee163d76e8d9269e22373\n",
            "  Stored in directory: /root/.cache/pip/wheels/2c/41/7c/bfd1c180534ffdcc0972f78c5758f89881602175d48a8bcd2c\n",
            "Successfully built ffmpy python-multipart\n",
            "Installing collected packages: sniffio, mdurl, uc-micro-py, multidict, markdown-it-py, frozenlist, anyio, yarl, starlette, pynacl, pydantic, monotonic, mdit-py-plugins, linkify-it-py, h11, cryptography, bcrypt, backoff, asynctest, async-timeout, asgiref, aiosignal, uvicorn, python-multipart, pydub, pycryptodome, paramiko, orjson, ffmpy, fastapi, analytics-python, aiohttp, gradio\n",
            "Successfully installed aiohttp-3.8.1 aiosignal-1.2.0 analytics-python-1.4.0 anyio-3.6.1 asgiref-3.5.2 async-timeout-4.0.2 asynctest-0.13.0 backoff-1.10.0 bcrypt-3.2.2 cryptography-37.0.2 fastapi-0.78.0 ffmpy-0.3.0 frozenlist-1.3.0 gradio-3.0.1 h11-0.13.0 linkify-it-py-1.0.3 markdown-it-py-2.1.0 mdit-py-plugins-0.3.0 mdurl-0.1.1 monotonic-1.6 multidict-6.0.2 orjson-3.6.8 paramiko-2.11.0 pycryptodome-3.14.1 pydantic-1.9.0 pydub-0.25.1 pynacl-1.5.0 python-multipart-0.0.5 sniffio-1.2.0 starlette-0.19.1 uc-micro-py-1.0.1 uvicorn-0.17.6 yarl-1.7.2\n"
          ]
        }
      ],
      "source": [
        "import numpy as np\n",
        "from keras.models import Sequential\n",
        "from keras.layers import Dense, Conv2D\n",
        "from keras.datasets import mnist\n",
        "\n",
        "# Gradio to build web app for presenting the ML model\n",
        "!pip install gradio\n",
        "import gradio as gr"
      ]
    },
    {
      "cell_type": "markdown",
      "source": [
        "# Loading pre-processed MNIST dataset"
      ],
      "metadata": {
        "id": "MhyhC5AiM_6y"
      }
    },
    {
      "cell_type": "code",
      "source": [
        "# mnist.load_data() returns list of tuples\n",
        "(x_train, y_train), (x_test, y_test) = mnist.load_data()\n",
        "print(f\"X_train Shape: {x_train.shape} | Type - {type(x_train)}\")\n",
        "print(f\"y_train Shape: {y_train.shape} | Type - {type(y_train)}\")\n",
        "print(f\"X_test Shape: {x_test.shape} | Type - {type(x_test)}\")\n",
        "print(f\"y_test Shape: {y_test.shape} | Type - {type(y_test)}\")"
      ],
      "metadata": {
        "colab": {
          "base_uri": "https://localhost:8080/"
        },
        "id": "rfMPb-HWMi2w",
        "outputId": "11037fbc-6a59-493a-e8e2-98ecae4451de"
      },
      "execution_count": 4,
      "outputs": [
        {
          "output_type": "stream",
          "name": "stdout",
          "text": [
            "Downloading data from https://storage.googleapis.com/tensorflow/tf-keras-datasets/mnist.npz\n",
            "11493376/11490434 [==============================] - 0s 0us/step\n",
            "11501568/11490434 [==============================] - 0s 0us/step\n",
            "X_train Shape: (60000, 28, 28) | Type - <class 'numpy.ndarray'>\n",
            "y_train Shape: (60000,) | Type - <class 'numpy.ndarray'>\n",
            "X_test Shape: (10000, 28, 28) | Type - <class 'numpy.ndarray'>\n",
            "y_test Shape: (10000,) | Type - <class 'numpy.ndarray'>\n"
          ]
        }
      ]
    },
    {
      "cell_type": "markdown",
      "source": [
        "-> Make modifications to the train and test datasets to suit the **ML model**\n",
        "\n",
        "\n",
        "\n"
      ],
      "metadata": {
        "id": "OWjyiiXbOMv5"
      }
    },
    {
      "cell_type": "code",
      "source": [
        "# flatten the shapes of x_train and x_test\n",
        "x_train = x_train.reshape(60000, 28*28)\n",
        "x_test = x_test.reshape(10000, 28*28)\n",
        "\n",
        "# TODO: Try without resizing the images and there'll be **significant difference** in accuracy when we compare both the models\n",
        "x_train = x_train/255.0\n",
        "x_test = x_test/255.0"
      ],
      "metadata": {
        "id": "yF4v3JHwOT9M"
      },
      "execution_count": 52,
      "outputs": []
    },
    {
      "cell_type": "markdown",
      "source": [
        "# ML Model"
      ],
      "metadata": {
        "id": "UMcDX0aVPZhj"
      }
    },
    {
      "cell_type": "code",
      "source": [
        "# Simple Neural Network with 3 hidden layers\n",
        "\n",
        "model = Sequential()\n",
        "\n",
        "model.add(Dense(512, activation='relu', input_dim=784))\n",
        "model.add(Dense(256, activation='relu'))\n",
        "model.add(Dense(128, activation='relu'))\n",
        "model.add(Dense(10, activation='sigmoid'))\n",
        "\n",
        "model.compile(optimizer='adam', loss='sparse_categorical_crossentropy', metrics=['accuracy'])\n",
        "\n",
        "model.fit(x_train, y_train, epochs=20, validation_split=0.3)"
      ],
      "metadata": {
        "colab": {
          "base_uri": "https://localhost:8080/"
        },
        "id": "0fTYZFs_POe2",
        "outputId": "002aae0e-63ca-494e-fdd6-b8025fe9df89"
      },
      "execution_count": 53,
      "outputs": [
        {
          "output_type": "stream",
          "name": "stdout",
          "text": [
            "Epoch 1/20\n",
            "1313/1313 [==============================] - 13s 9ms/step - loss: 0.2268 - accuracy: 0.9316 - val_loss: 0.1593 - val_accuracy: 0.9524\n",
            "Epoch 2/20\n",
            "1313/1313 [==============================] - 12s 9ms/step - loss: 0.0924 - accuracy: 0.9715 - val_loss: 0.1391 - val_accuracy: 0.9589\n",
            "Epoch 3/20\n",
            "1313/1313 [==============================] - 12s 9ms/step - loss: 0.0672 - accuracy: 0.9791 - val_loss: 0.1120 - val_accuracy: 0.9684\n",
            "Epoch 4/20\n",
            "1313/1313 [==============================] - 12s 9ms/step - loss: 0.0490 - accuracy: 0.9843 - val_loss: 0.1289 - val_accuracy: 0.9651\n",
            "Epoch 5/20\n",
            "1313/1313 [==============================] - 13s 10ms/step - loss: 0.0420 - accuracy: 0.9861 - val_loss: 0.1135 - val_accuracy: 0.9694\n",
            "Epoch 6/20\n",
            "1313/1313 [==============================] - 12s 9ms/step - loss: 0.0328 - accuracy: 0.9897 - val_loss: 0.1105 - val_accuracy: 0.9734\n",
            "Epoch 7/20\n",
            "1313/1313 [==============================] - 12s 9ms/step - loss: 0.0292 - accuracy: 0.9909 - val_loss: 0.1219 - val_accuracy: 0.9718\n",
            "Epoch 8/20\n",
            "1313/1313 [==============================] - 14s 11ms/step - loss: 0.0259 - accuracy: 0.9915 - val_loss: 0.1087 - val_accuracy: 0.9753\n",
            "Epoch 9/20\n",
            "1313/1313 [==============================] - 15s 12ms/step - loss: 0.0213 - accuracy: 0.9936 - val_loss: 0.1252 - val_accuracy: 0.9722\n",
            "Epoch 10/20\n",
            "1313/1313 [==============================] - 14s 11ms/step - loss: 0.0198 - accuracy: 0.9936 - val_loss: 0.1258 - val_accuracy: 0.9741\n",
            "Epoch 11/20\n",
            "1313/1313 [==============================] - 14s 10ms/step - loss: 0.0225 - accuracy: 0.9932 - val_loss: 0.1123 - val_accuracy: 0.9768\n",
            "Epoch 12/20\n",
            "1313/1313 [==============================] - 14s 11ms/step - loss: 0.0160 - accuracy: 0.9952 - val_loss: 0.1315 - val_accuracy: 0.9724\n",
            "Epoch 13/20\n",
            "1313/1313 [==============================] - 13s 10ms/step - loss: 0.0168 - accuracy: 0.9951 - val_loss: 0.1212 - val_accuracy: 0.9756\n",
            "Epoch 14/20\n",
            "1313/1313 [==============================] - 14s 11ms/step - loss: 0.0148 - accuracy: 0.9958 - val_loss: 0.1447 - val_accuracy: 0.9721\n",
            "Epoch 15/20\n",
            "1313/1313 [==============================] - 12s 9ms/step - loss: 0.0165 - accuracy: 0.9955 - val_loss: 0.1306 - val_accuracy: 0.9764\n",
            "Epoch 16/20\n",
            "1313/1313 [==============================] - 12s 9ms/step - loss: 0.0108 - accuracy: 0.9969 - val_loss: 0.1130 - val_accuracy: 0.9786\n",
            "Epoch 17/20\n",
            "1313/1313 [==============================] - 12s 9ms/step - loss: 0.0133 - accuracy: 0.9962 - val_loss: 0.1432 - val_accuracy: 0.9751\n",
            "Epoch 18/20\n",
            "1313/1313 [==============================] - 12s 9ms/step - loss: 0.0123 - accuracy: 0.9964 - val_loss: 0.1474 - val_accuracy: 0.9778\n",
            "Epoch 19/20\n",
            "1313/1313 [==============================] - 12s 9ms/step - loss: 0.0144 - accuracy: 0.9963 - val_loss: 0.1595 - val_accuracy: 0.9768\n",
            "Epoch 20/20\n",
            "1313/1313 [==============================] - 11s 8ms/step - loss: 0.0107 - accuracy: 0.9970 - val_loss: 0.1365 - val_accuracy: 0.9797\n"
          ]
        },
        {
          "output_type": "execute_result",
          "data": {
            "text/plain": [
              "<keras.callbacks.History at 0x7f221e88bb10>"
            ]
          },
          "metadata": {},
          "execution_count": 53
        }
      ]
    },
    {
      "cell_type": "markdown",
      "source": [
        "# Evaluation of the Model"
      ],
      "metadata": {
        "id": "LAOdj-zTtYzm"
      }
    },
    {
      "cell_type": "code",
      "source": [
        "results = model.evaluate(x_test, y_test)\n",
        "print(f\"Accuracy: {100*(results[1])}\")\n",
        "\n",
        "print(model.predict(x_test[0:1])) # returns list of lists"
      ],
      "metadata": {
        "colab": {
          "base_uri": "https://localhost:8080/"
        },
        "id": "hMc0GHJ_SV9a",
        "outputId": "e21d593a-85f4-417e-849e-c1f8bd2d4871"
      },
      "execution_count": 54,
      "outputs": [
        {
          "output_type": "stream",
          "name": "stdout",
          "text": [
            "313/313 [==============================] - 1s 4ms/step - loss: 0.1015 - accuracy: 0.9826\n",
            "Accuracy: 98.25999736785889\n",
            "[[2.3313871e-09 1.2043930e-08 1.0712147e-03 1.0012513e-09 1.3522784e-10\n",
            "  1.4605450e-10 1.1544941e-21 1.0000000e+00 1.5604915e-09 1.4924157e-01]]\n"
          ]
        }
      ]
    },
    {
      "cell_type": "markdown",
      "source": [
        "# Visualization using Gradio"
      ],
      "metadata": {
        "id": "QpXCDlwoUYaN"
      }
    },
    {
      "cell_type": "code",
      "source": [
        "def predict_digit(img):\n",
        "  # img is a numpy array of shape 28*28 (it is fetched by gradio by default)\n",
        "  img=img.reshape(1, 784)\n",
        "  img = img/255.0\n",
        "  results_dict = {}\n",
        "  prediction=model.predict(img)\n",
        "  predictions = prediction[0]\n",
        "  for i in range(len(predictions)):\n",
        "    results_dict[str(i)] = float(predictions[i])\n",
        "  return results_dict"
      ],
      "metadata": {
        "id": "XJ1OQv_QUXCf"
      },
      "execution_count": 58,
      "outputs": []
    },
    {
      "cell_type": "code",
      "source": [
        "# Sketchpad - Input - Image of size 28*28 (default)\n",
        "# Note: gr.outputs.Label(num_top_classes=3) - to filter out top 3 classes \n",
        "\n",
        "ui = gr.Interface(predict_digit, inputs=\"sketchpad\", outputs=gr.outputs.Label())"
      ],
      "metadata": {
        "colab": {
          "base_uri": "https://localhost:8080/"
        },
        "id": "NPXurN0ja2gJ",
        "outputId": "19106102-e233-4a93-cd20-a0273fbeac96"
      },
      "execution_count": 65,
      "outputs": [
        {
          "output_type": "stream",
          "name": "stderr",
          "text": [
            "/usr/local/lib/python3.7/dist-packages/gradio/deprecation.py:40: UserWarning: The 'type' parameter has been deprecated. Use the Number component instead.\n",
            "  warnings.warn(value)\n"
          ]
        }
      ]
    },
    {
      "cell_type": "code",
      "source": [
        "ui = ui.launch(debug='True')"
      ],
      "metadata": {
        "colab": {
          "base_uri": "https://localhost:8080/",
          "height": 660
        },
        "id": "rh1ddSb7dq8d",
        "outputId": "561248f4-a24d-4372-9993-1d0af81b96dd"
      },
      "execution_count": 64,
      "outputs": [
        {
          "output_type": "stream",
          "name": "stdout",
          "text": [
            "Colab notebook detected. This cell will run indefinitely so that you can see errors and logs. To turn off, set debug=False in launch().\n",
            "Running on public URL: https://55151.gradio.app\n",
            "\n",
            "This share link expires in 72 hours. For free permanent hosting, check out Spaces (https://huggingface.co/spaces)\n"
          ]
        },
        {
          "output_type": "display_data",
          "data": {
            "text/plain": [
              "<IPython.lib.display.IFrame at 0x7f221ea49390>"
            ],
            "text/html": [
              "\n",
              "        <iframe\n",
              "            width=\"900\"\n",
              "            height=\"500\"\n",
              "            src=\"https://55151.gradio.app\"\n",
              "            frameborder=\"0\"\n",
              "            allowfullscreen\n",
              "        ></iframe>\n",
              "        "
            ]
          },
          "metadata": {}
        },
        {
          "output_type": "stream",
          "name": "stdout",
          "text": [
            "Keyboard interruption in main thread... closing server.\n"
          ]
        },
        {
          "output_type": "execute_result",
          "data": {
            "text/plain": [
              "(<gradio.routes.App at 0x7f221e7659d0>,\n",
              " 'http://127.0.0.1:7862/',\n",
              " 'https://55151.gradio.app')"
            ]
          },
          "metadata": {},
          "execution_count": 64
        }
      ]
    }
  ]
}